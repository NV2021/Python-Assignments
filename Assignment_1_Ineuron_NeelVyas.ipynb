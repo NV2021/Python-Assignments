{
 "cells": [
  {
   "cell_type": "markdown",
   "metadata": {},
   "source": [
    "# Assignment - 1"
   ]
  },
  {
   "cell_type": "markdown",
   "metadata": {},
   "source": [
    "1. Write a Python program to find those numbers which are divisible by 7 and multiple of 5, between 1500 and 2700 (both included)."
   ]
  },
  {
   "cell_type": "code",
   "execution_count": 1,
   "metadata": {},
   "outputs": [
    {
     "name": "stdout",
     "output_type": "stream",
     "text": [
      "Numbers divisible by 7 and multiple of 5 between 1500 and 2700 are: 1505\n",
      "Numbers divisible by 7 and multiple of 5 between 1500 and 2700 are: 1540\n",
      "Numbers divisible by 7 and multiple of 5 between 1500 and 2700 are: 1575\n",
      "Numbers divisible by 7 and multiple of 5 between 1500 and 2700 are: 1610\n",
      "Numbers divisible by 7 and multiple of 5 between 1500 and 2700 are: 1645\n",
      "Numbers divisible by 7 and multiple of 5 between 1500 and 2700 are: 1680\n",
      "Numbers divisible by 7 and multiple of 5 between 1500 and 2700 are: 1715\n",
      "Numbers divisible by 7 and multiple of 5 between 1500 and 2700 are: 1750\n",
      "Numbers divisible by 7 and multiple of 5 between 1500 and 2700 are: 1785\n",
      "Numbers divisible by 7 and multiple of 5 between 1500 and 2700 are: 1820\n",
      "Numbers divisible by 7 and multiple of 5 between 1500 and 2700 are: 1855\n",
      "Numbers divisible by 7 and multiple of 5 between 1500 and 2700 are: 1890\n",
      "Numbers divisible by 7 and multiple of 5 between 1500 and 2700 are: 1925\n",
      "Numbers divisible by 7 and multiple of 5 between 1500 and 2700 are: 1960\n",
      "Numbers divisible by 7 and multiple of 5 between 1500 and 2700 are: 1995\n",
      "Numbers divisible by 7 and multiple of 5 between 1500 and 2700 are: 2030\n",
      "Numbers divisible by 7 and multiple of 5 between 1500 and 2700 are: 2065\n",
      "Numbers divisible by 7 and multiple of 5 between 1500 and 2700 are: 2100\n",
      "Numbers divisible by 7 and multiple of 5 between 1500 and 2700 are: 2135\n",
      "Numbers divisible by 7 and multiple of 5 between 1500 and 2700 are: 2170\n",
      "Numbers divisible by 7 and multiple of 5 between 1500 and 2700 are: 2205\n",
      "Numbers divisible by 7 and multiple of 5 between 1500 and 2700 are: 2240\n",
      "Numbers divisible by 7 and multiple of 5 between 1500 and 2700 are: 2275\n",
      "Numbers divisible by 7 and multiple of 5 between 1500 and 2700 are: 2310\n",
      "Numbers divisible by 7 and multiple of 5 between 1500 and 2700 are: 2345\n",
      "Numbers divisible by 7 and multiple of 5 between 1500 and 2700 are: 2380\n",
      "Numbers divisible by 7 and multiple of 5 between 1500 and 2700 are: 2415\n",
      "Numbers divisible by 7 and multiple of 5 between 1500 and 2700 are: 2450\n",
      "Numbers divisible by 7 and multiple of 5 between 1500 and 2700 are: 2485\n",
      "Numbers divisible by 7 and multiple of 5 between 1500 and 2700 are: 2520\n",
      "Numbers divisible by 7 and multiple of 5 between 1500 and 2700 are: 2555\n",
      "Numbers divisible by 7 and multiple of 5 between 1500 and 2700 are: 2590\n",
      "Numbers divisible by 7 and multiple of 5 between 1500 and 2700 are: 2625\n",
      "Numbers divisible by 7 and multiple of 5 between 1500 and 2700 are: 2660\n",
      "Numbers divisible by 7 and multiple of 5 between 1500 and 2700 are: 2695\n"
     ]
    }
   ],
   "source": [
    "# Code for 1st question\n",
    "for i in range (1500,2700):\n",
    "    if (i%7==0 and i%5==0):\n",
    "        print('Numbers divisible by 7 and multiple of 5 between 1500 and 2700 are:', i)"
   ]
  },
  {
   "cell_type": "markdown",
   "metadata": {},
   "source": [
    "2. Python program to add two numbers"
   ]
  },
  {
   "cell_type": "code",
   "execution_count": 22,
   "metadata": {},
   "outputs": [
    {
     "name": "stdout",
     "output_type": "stream",
     "text": [
      "Enter first number: 2\n",
      "Enter second number: 5\n",
      "Addition of two numbners 2 and 5 is 7.0\n"
     ]
    }
   ],
   "source": [
    "# Code for 2nd question\n",
    "first_number = input ('Enter first number: ') #code inputs the 1st number\n",
    "second_number = input ('Enter second number: ') #code inputs the 2nd number\n",
    "sum = float(first_number) + float(second_number) # code for adding 2 numbers, using float function for proper addition\n",
    "print('Addition of two numbners {0} and {1} is {2}'. format(first_number,second_number,sum))"
   ]
  },
  {
   "cell_type": "markdown",
   "metadata": {},
   "source": [
    "3. Maximum of two numbers in Python"
   ]
  },
  {
   "cell_type": "code",
   "execution_count": 31,
   "metadata": {},
   "outputs": [
    {
     "name": "stdout",
     "output_type": "stream",
     "text": [
      "Enter first number: 788\n",
      "Enter second number: 655\n",
      "Maximum of two number is: 788\n"
     ]
    }
   ],
   "source": [
    "# Code for 3rd question\n",
    "first_number = input ('Enter first number: ') #code inputs the 1st number\n",
    "second_number = input ('Enter second number: ') #code inputs the 2nd number\n",
    "#using if-else function\n",
    "if first_number > second_number:\n",
    "    print ('Maximum of two number is:', first_number) \n",
    "else:\n",
    "    print ('Maximum of two number is:', second_number)"
   ]
  },
  {
   "cell_type": "markdown",
   "metadata": {},
   "source": [
    "4. Python Program for factorial of a number"
   ]
  },
  {
   "cell_type": "code",
   "execution_count": 55,
   "metadata": {},
   "outputs": [
    {
     "name": "stdout",
     "output_type": "stream",
     "text": [
      "Enter a number:5\n",
      "The Factorial of number 5 is 120\n"
     ]
    }
   ],
   "source": [
    "# Code for 4th question\n",
    "num = int(input('Enter a number:'))\n",
    "Fact = 1 #the 1st number of a range\n",
    "for i in range(1, num + 1):\n",
    "    Fact = Fact * i #multiplying all number between 1 till the number we give as input\n",
    "print('The Factorial of number',num,'is',Fact)"
   ]
  },
  {
   "cell_type": "markdown",
   "metadata": {},
   "source": [
    "5. Python Program for simple interest"
   ]
  },
  {
   "cell_type": "code",
   "execution_count": 2,
   "metadata": {},
   "outputs": [
    {
     "name": "stdout",
     "output_type": "stream",
     "text": [
      "Enter Principal amt:5000\n",
      "Enter time period (years):5\n",
      "Enter rate of interest:2\n",
      "The Simple Interest is 500.0\n"
     ]
    }
   ],
   "source": [
    "# Code for 5th question\n",
    "p = int(input('Enter Principal amt:'))\n",
    "t = int(input('Enter time period (years):'))\n",
    "r = int(input('Enter rate of interest:'))\n",
    "def simple_interest(p,t,r):\n",
    "    si = (p * t * r)/100\n",
    "    print('The Simple Interest is', si)\n",
    "    #return si\n",
    "simple_interest(p, t, r)"
   ]
  },
  {
   "cell_type": "markdown",
   "metadata": {},
   "source": [
    "6. Python Program for compound interest"
   ]
  },
  {
   "cell_type": "code",
   "execution_count": 15,
   "metadata": {},
   "outputs": [
    {
     "name": "stdout",
     "output_type": "stream",
     "text": [
      "Enter the principle amount : 5000\n",
      "Enter the rate of interest : 5\n",
      "Enter the time in the years: 1\n",
      "compound Interest :  250.0\n"
     ]
    }
   ],
   "source": [
    "# Code for 6th question\n",
    "p = float(input('Enter the principle amount : '))\n",
    "r = float(input('Enter the rate of interest : '))\n",
    "t = float(input('Enter the time in the years: '))\n",
    "\n",
    "# calculating compound interest\n",
    "ci =  p * pow((1 + r / 100), t)- p #using pow() function, pow() function returns the value of x to the power of y\n",
    "print('compound Interest : ', ci)"
   ]
  },
  {
   "cell_type": "markdown",
   "metadata": {},
   "source": [
    "7. Python Program to check Armstrong Number"
   ]
  },
  {
   "cell_type": "code",
   "execution_count": 14,
   "metadata": {},
   "outputs": [
    {
     "name": "stdout",
     "output_type": "stream",
     "text": [
      "Enter a number: 153\n",
      "153 is an Armstrong number\n"
     ]
    }
   ],
   "source": [
    "# Code for 7th question\n",
    "#Armstrong number is a number that is equal to the sum of cubes of its digits.\n",
    "num = int(input('Enter a number: '))\n",
    "# initialize sum\n",
    "sum = 0\n",
    "\n",
    "#below code finds the sum of cube of each digit of the given number\n",
    "temp = num\n",
    "while temp > 0:\n",
    "    digit = temp % 10\n",
    "    sum += digit ** 3\n",
    "    temp //= 10\n",
    "\n",
    "#below code check whether given number is armstrong number or not\n",
    "if num == sum:\n",
    "    print(num,'is an Armstrong number')\n",
    "else:\n",
    "    print(num,'is not an Armstrong number')"
   ]
  },
  {
   "cell_type": "markdown",
   "metadata": {},
   "source": [
    "8. Python Program for Program to find area of a circle"
   ]
  },
  {
   "cell_type": "code",
   "execution_count": 21,
   "metadata": {},
   "outputs": [
    {
     "name": "stdout",
     "output_type": "stream",
     "text": [
      "Enter the radius of a circle:5\n",
      "Area of a circle = 78.5\n"
     ]
    }
   ],
   "source": [
    "# Code for 8th question\n",
    "r = float(input('Enter the radius of a circle:'))\n",
    "#value of pi needed to calculate area of circle\n",
    "PI = 3.14 \n",
    "area = PI * r * r \n",
    "print('Area of a circle =',area)"
   ]
  },
  {
   "cell_type": "markdown",
   "metadata": {},
   "source": [
    "9. Python program to print all Prime numbers in an Interval"
   ]
  },
  {
   "cell_type": "code",
   "execution_count": 42,
   "metadata": {},
   "outputs": [
    {
     "name": "stdout",
     "output_type": "stream",
     "text": [
      "Enter 1st number of the range:11\n",
      "Enter 2nd number of the range:15\n",
      "Prime numbers between 11 and 15 are:\n",
      "11\n",
      "13\n"
     ]
    }
   ],
   "source": [
    "# Code for 9th question\n",
    "lower = int(input('Enter 1st number of the range:'))\n",
    "upper = int(input('Enter 2nd number of the range:'))\n",
    "\n",
    "print('Prime numbers between', lower, 'and', upper, 'are:')\n",
    "\n",
    "for i in range(lower, upper+1):\n",
    "    if i>1:\n",
    "        for j in range(2,i):\n",
    "            if(i % j==0):\n",
    "                break\n",
    "        else:\n",
    "            print(i)"
   ]
  },
  {
   "cell_type": "markdown",
   "metadata": {},
   "source": [
    "10. Python program to check whether a number is Prime or not"
   ]
  },
  {
   "cell_type": "code",
   "execution_count": 41,
   "metadata": {},
   "outputs": [
    {
     "name": "stdout",
     "output_type": "stream",
     "text": [
      "Enter a number: 7\n",
      "7 is a prime number\n"
     ]
    }
   ],
   "source": [
    "# Code for 10th question\n",
    "num = int(input('Enter a number: '))\n",
    "\n",
    "# define a flag variable\n",
    "flag = False\n",
    "\n",
    "if num > 1:\n",
    "    for i in range(2, num):\n",
    "        if (num % i) == 0:\n",
    "            flag = True\n",
    "            # break out of loop\n",
    "            break\n",
    "\n",
    "# check if flag is True\n",
    "if flag:\n",
    "    print(num, 'is not a prime number')\n",
    "else:\n",
    "    print(num, 'is a prime number')"
   ]
  }
 ],
 "metadata": {
  "kernelspec": {
   "display_name": "Python 3",
   "language": "python",
   "name": "python3"
  },
  "language_info": {
   "codemirror_mode": {
    "name": "ipython",
    "version": 3
   },
   "file_extension": ".py",
   "mimetype": "text/x-python",
   "name": "python",
   "nbconvert_exporter": "python",
   "pygments_lexer": "ipython3",
   "version": "3.7.6"
  }
 },
 "nbformat": 4,
 "nbformat_minor": 4
}
