{
 "cells": [
  {
   "cell_type": "markdown",
   "metadata": {},
   "source": [
    "1) Python program to find smallest number in a list"
   ]
  },
  {
   "cell_type": "code",
   "execution_count": 2,
   "metadata": {},
   "outputs": [
    {
     "name": "stdout",
     "output_type": "stream",
     "text": [
      "The smallest number in list is: 3\n"
     ]
    }
   ],
   "source": [
    "# code for ques 1\n",
    "# we will use min() function\n",
    "list1 = [3, 5 ,7 ,9, 11]\n",
    "print(\"The smallest number in list is:\",min(list1)) "
   ]
  },
  {
   "cell_type": "markdown",
   "metadata": {},
   "source": [
    "2) Python program to find largest number in a list"
   ]
  },
  {
   "cell_type": "code",
   "execution_count": 8,
   "metadata": {},
   "outputs": [
    {
     "name": "stdout",
     "output_type": "stream",
     "text": [
      "The largest number in list is: 11\n"
     ]
    }
   ],
   "source": [
    "# code for ques 2\n",
    "list2 = [3, 5 ,7 ,9, 11]\n",
    "print(\"The largest number in list is:\",max(list2))"
   ]
  },
  {
   "cell_type": "markdown",
   "metadata": {},
   "source": [
    "3) Python program to find second largest number in a list"
   ]
  },
  {
   "cell_type": "code",
   "execution_count": 10,
   "metadata": {},
   "outputs": [
    {
     "name": "stdout",
     "output_type": "stream",
     "text": [
      "The second largest number in the list is: 18\n"
     ]
    }
   ],
   "source": [
    "# code for ques 3\n",
    "list3 = [3, 9 ,7 ,5, 11, 6, 18, 13, 23]\n",
    "#list3_max = max(list3)\n",
    "list3_sort = sorted(list3) #sorts the list\n",
    "list3_2largest = (list3_sort[-2]) #finds the second largest number in list\n",
    "print(\"The second largest number in the list is:\",list3_2largest )"
   ]
  },
  {
   "cell_type": "markdown",
   "metadata": {},
   "source": [
    "4) Python program to find N largest elements from a list"
   ]
  },
  {
   "cell_type": "code",
   "execution_count": 20,
   "metadata": {},
   "outputs": [
    {
     "name": "stdout",
     "output_type": "stream",
     "text": [
      "Enter size of list: 5\n",
      "Enter element of list: 10\n",
      "Enter element of list: 12\n",
      "Enter element of list: 14\n",
      "Enter element of list: 16\n",
      "Enter element of list: 18\n",
      "Enter N: 3\n",
      "The list is:  [10, 12, 14, 16, 18]\n",
      "The N element is :  3\n",
      "The N largest elements from list is:  [14, 16, 18]\n"
     ]
    }
   ],
   "source": [
    "# code for ques 4\n",
    "def N_max_elements(list, N):\n",
    "    list.sort() #sorting the list\n",
    "    return list[-N: ] #using Slicing function\n",
    "\n",
    "#below code takes input of list and Nth number\n",
    "li=[]\n",
    "n=int(input(\"Enter size of list: \"))\n",
    "for i in range(0,n):\n",
    "    e=int(input(\"Enter element of list: \"))\n",
    "    li.append(e)\n",
    "n=int(input(\"Enter N: \"))\n",
    "print(\"The list is: \",li)\n",
    "print(\"The N element is : \",n)\n",
    "\n",
    "print(\"The N largest elements from list is: \" ,N_max_elements(li, n))"
   ]
  },
  {
   "cell_type": "markdown",
   "metadata": {},
   "source": [
    "5) Python program to print even numbers in a list"
   ]
  },
  {
   "cell_type": "code",
   "execution_count": 13,
   "metadata": {},
   "outputs": [
    {
     "name": "stdout",
     "output_type": "stream",
     "text": [
      "Even number in list is:  2\n",
      "Even number in list is:  8\n",
      "Even number in list is:  14\n",
      "Even number in list is:  20\n",
      "Even number in list is:  26\n"
     ]
    }
   ],
   "source": [
    "#code for ques 5\n",
    "list4 = [2, 5, 8, 11, 14, 17, 20, 23, 26]\n",
    "\n",
    "for i in list4:\n",
    "    if i % 2 == 0:\n",
    "      print('Even number in list is: ', i)"
   ]
  },
  {
   "cell_type": "markdown",
   "metadata": {},
   "source": [
    "6) Python program to print odd numbers in a List"
   ]
  },
  {
   "cell_type": "code",
   "execution_count": 6,
   "metadata": {},
   "outputs": [
    {
     "name": "stdout",
     "output_type": "stream",
     "text": [
      "Odd number in list is:  5\n",
      "Odd number in list is:  11\n",
      "Odd number in list is:  17\n",
      "Odd number in list is:  23\n"
     ]
    }
   ],
   "source": [
    "#code for ques 6\n",
    "list5 = [2, 5, 8, 11, 14, 17, 20, 23, 26]\n",
    "\n",
    "for i in list5:\n",
    "    if i % 2 == 1:\n",
    "      print('Odd number in list is: ', i)"
   ]
  },
  {
   "cell_type": "markdown",
   "metadata": {},
   "source": [
    "7) Python program to print all even numbers in a range"
   ]
  },
  {
   "cell_type": "code",
   "execution_count": 20,
   "metadata": {},
   "outputs": [
    {
     "name": "stdout",
     "output_type": "stream",
     "text": [
      "2 4 6 8 10 12 14 16 18 20 "
     ]
    }
   ],
   "source": [
    "#code for ques 7\n",
    "start, end = 1, 20 #creates list between 2 given numbers\n",
    "\n",
    "for i in range(start,end+1): # we have to do '+1' bcoz the python's index starts from 0\n",
    "    if i % 2 == 0:\n",
    "        print(i, end = \" \")"
   ]
  },
  {
   "cell_type": "markdown",
   "metadata": {},
   "source": [
    "8) Python program to print all odd numbers in a range"
   ]
  },
  {
   "cell_type": "code",
   "execution_count": 23,
   "metadata": {},
   "outputs": [
    {
     "name": "stdout",
     "output_type": "stream",
     "text": [
      "1 3 5 7 9 11 13 15 17 19 "
     ]
    }
   ],
   "source": [
    "#code for ques 8\n",
    "start, end = 1, 20 #creates list between 2 given numbers\n",
    "\n",
    "for i in range(start,end+1): # we have to do '+1' bcoz the python's index starts from 0\n",
    "    if i % 2 == 1:\n",
    "        print(i, end = \" \")"
   ]
  },
  {
   "cell_type": "markdown",
   "metadata": {},
   "source": [
    "9) Python program to print positive numbers in a list"
   ]
  },
  {
   "cell_type": "code",
   "execution_count": 2,
   "metadata": {},
   "outputs": [
    {
     "name": "stdout",
     "output_type": "stream",
     "text": [
      "Positive numbers in the list are:  2\n",
      "Positive numbers in the list are:  8\n",
      "Positive numbers in the list are:  14\n",
      "Positive numbers in the list are:  20\n",
      "Positive numbers in the list are:  26\n"
     ]
    }
   ],
   "source": [
    "#code for ques 9\n",
    "list9 = [2, -5, 8, -11, 14, -17, 20, -23, 26]\n",
    "for i in list9:\n",
    "    if i > 0:\n",
    "        print(\"Positive numbers in the list are: \",i)"
   ]
  },
  {
   "cell_type": "markdown",
   "metadata": {},
   "source": [
    "10) Python program to print negative numbers in a list"
   ]
  },
  {
   "cell_type": "code",
   "execution_count": 3,
   "metadata": {},
   "outputs": [
    {
     "name": "stdout",
     "output_type": "stream",
     "text": [
      "Negetive numbers in the list are:  -5\n",
      "Negetive numbers in the list are:  -11\n",
      "Negetive numbers in the list are:  -17\n",
      "Negetive numbers in the list are:  -23\n"
     ]
    }
   ],
   "source": [
    "list10 = [2, -5, 8, -11, 14, -17, 20, -23, 26]\n",
    "for i in list9:\n",
    "    if i < 0:\n",
    "        print(\"Negetive numbers in the list are: \",i)"
   ]
  },
  {
   "cell_type": "markdown",
   "metadata": {},
   "source": [
    "11) Python program to print all positive numbers in a range"
   ]
  },
  {
   "cell_type": "code",
   "execution_count": 5,
   "metadata": {},
   "outputs": [
    {
     "name": "stdout",
     "output_type": "stream",
     "text": [
      "1 2 3 4 5 6 7 8 9 10 11 12 "
     ]
    }
   ],
   "source": [
    "start, end = -10, 12 #creates list between 2 given numbers\n",
    "\n",
    "for i in range(start,end+1): # we have to do '+1' bcoz the python's index starts from 0\n",
    "    if i > 0:\n",
    "        print(i, end = \" \")"
   ]
  }
 ],
 "metadata": {
  "kernelspec": {
   "display_name": "Python 3",
   "language": "python",
   "name": "python3"
  },
  "language_info": {
   "codemirror_mode": {
    "name": "ipython",
    "version": 3
   },
   "file_extension": ".py",
   "mimetype": "text/x-python",
   "name": "python",
   "nbconvert_exporter": "python",
   "pygments_lexer": "ipython3",
   "version": "3.7.6"
  }
 },
 "nbformat": 4,
 "nbformat_minor": 4
}
