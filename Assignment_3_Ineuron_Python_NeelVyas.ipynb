{
 "cells": [
  {
   "cell_type": "markdown",
   "metadata": {},
   "source": [
    "1) Python Program for Find reminder of array multiplication divided by n"
   ]
  },
  {
   "cell_type": "code",
   "execution_count": 22,
   "metadata": {},
   "outputs": [
    {
     "name": "stdout",
     "output_type": "stream",
     "text": [
      "9\n"
     ]
    }
   ],
   "source": [
    "#Code for ques 1\n",
    "\n",
    "def findremainder(arr, lens, n):#define function with 3 argument\n",
    "    mul=1 #multiplication = 1\n",
    "    for i in arr:\n",
    "        mul=mul*(i%n) #Doing remainder of every element one by one and then multiplying with mul i.e overall multiplication\n",
    "    return mul%n\n",
    "\n",
    "arr = [ 100, 10, 5, 25, 35, 14 ]\n",
    "lens = len(arr)\n",
    "n = 11\n",
    "print( findremainder(arr, lens, n))"
   ]
  },
  {
   "cell_type": "markdown",
   "metadata": {},
   "source": [
    "2) Python Program to check if given array is Monotonic"
   ]
  },
  {
   "cell_type": "code",
   "execution_count": 11,
   "metadata": {},
   "outputs": [
    {
     "name": "stdout",
     "output_type": "stream",
     "text": [
      "True\n"
     ]
    }
   ],
   "source": [
    "#Code for ques 2\n",
    "\n",
    "#An array is monotonic if it is either monotone increasing or monotone decreasing.\n",
    "\n",
    "def isMonotonic(A):\n",
    "  \n",
    "    return (all(A[i] <= A[i + 1] for i in range(len(A) - 1)) or\n",
    "            all(A[i] >= A[i + 1] for i in range(len(A) - 1))) #this code checks whether the elements in the array are in increasing or decreasing order. \n",
    "  \n",
    "\n",
    "A = [20, 15, 10, 5]\n",
    "  \n",
    "print(isMonotonic(A))"
   ]
  },
  {
   "cell_type": "markdown",
   "metadata": {},
   "source": [
    "3) Python program to interchange first and last elements in a list"
   ]
  },
  {
   "cell_type": "code",
   "execution_count": 9,
   "metadata": {},
   "outputs": [
    {
     "name": "stdout",
     "output_type": "stream",
     "text": [
      "[42, 53, 8, 65, 21]\n"
     ]
    }
   ],
   "source": [
    "#Code for ques 3\n",
    "\n",
    "\n",
    "def swapList(newList):#defining function with argument newlist(list)\n",
    "    size = len(newList)\n",
    "    \n",
    "    temp = newList[0] #assigning temp as 1st number of list\n",
    "    newList[0] = newList[size - 1] #then replacing 1st number of list to last number \n",
    "    newList[size - 1] = temp #replacing last number of list to 1st number\n",
    "     \n",
    "    return newList\n",
    "     \n",
    "\n",
    "newList = [21, 53, 8, 65, 42]\n",
    " \n",
    "print(swapList(newList))"
   ]
  },
  {
   "cell_type": "markdown",
   "metadata": {},
   "source": [
    "4) Python program to swap two elements in a list"
   ]
  },
  {
   "cell_type": "code",
   "execution_count": 17,
   "metadata": {},
   "outputs": [
    {
     "name": "stdout",
     "output_type": "stream",
     "text": [
      "[23, 65, 19, 90]\n",
      "Swapped List:  [19, 65, 23, 90]\n"
     ]
    }
   ],
   "source": [
    "#Code for ques 4\n",
    "\n",
    "def swapPositions(list, pos1, pos2):\n",
    "     \n",
    "    list[pos1], list[pos2] = list[pos2], list[pos1] #code for swapping elements\n",
    "    return list\n",
    " \n",
    "\n",
    "List = [23, 65, 19, 90]\n",
    "pos1, pos2  = 1, 3\n",
    "print(List) \n",
    "print(\"Swapped List: \",swapPositions(List, pos1-1, pos2-1)) #using '-1' bcoz python index starts from 0, by using -1 we can get proper mentioned position\n"
   ]
  },
  {
   "cell_type": "markdown",
   "metadata": {},
   "source": [
    "5) Write a program to find length of list"
   ]
  },
  {
   "cell_type": "code",
   "execution_count": 19,
   "metadata": {},
   "outputs": [
    {
     "name": "stdout",
     "output_type": "stream",
     "text": [
      "Enter number of elements : 7\n",
      "1\n",
      "2\n",
      "3\n",
      "4\n",
      "5\n",
      "6\n",
      "7\n",
      "The list is: [1, 2, 3, 4, 5, 6, 7]\n",
      "Length of list is : 7\n"
     ]
    }
   ],
   "source": [
    "#Code for ques 5\n",
    "\n",
    "#Below is the code to ask input list from user\n",
    "lst = []\n",
    " \n",
    "n = int(input(\"Enter number of elements : \"))\n",
    " \n",
    "\n",
    "for i in range(0, n):\n",
    "    ele = int(input())\n",
    " \n",
    "    lst.append(ele) # adding the element\n",
    "     \n",
    "print(\"The list is:\",lst)\n",
    "\n",
    "#Below is the code to find the length of the list\n",
    "counter = 0\n",
    "for i in lst:\n",
    "    counter = counter + 1\n",
    "\n",
    "print (\"Length of list is : \" + str(counter))"
   ]
  },
  {
   "cell_type": "markdown",
   "metadata": {},
   "source": [
    "6) Write a program to check if element exists in list"
   ]
  },
  {
   "cell_type": "code",
   "execution_count": 52,
   "metadata": {},
   "outputs": [
    {
     "name": "stdout",
     "output_type": "stream",
     "text": [
      "Enter the number: 5\n",
      "Element Exists\n"
     ]
    }
   ],
   "source": [
    "#Code for ques 6\n",
    "ele = int(input(\"Enter the number: \"))\n",
    "\n",
    "list = [ 1, 6, 3, 5, 3, 4 ]\n",
    "for i in list:\n",
    "    if(i == ele) :\n",
    "        print (\"Element Exists\")\n",
    "        break\n",
    "else:\n",
    "    print (\"Element doesn't Exists\")\n",
    "    \n"
   ]
  },
  {
   "cell_type": "markdown",
   "metadata": {},
   "source": [
    "7) Write a program to clear a list in Python"
   ]
  },
  {
   "cell_type": "code",
   "execution_count": 5,
   "metadata": {},
   "outputs": [
    {
     "name": "stdout",
     "output_type": "stream",
     "text": [
      "The list is: [1, 2, 3, 4]\n",
      "The list is cleared []\n"
     ]
    }
   ],
   "source": [
    "#Code for ques 7\n",
    "\n",
    "#We will use clear() method to clear list\n",
    "lst = [1, 2, 3, 4]\n",
    "print(\"The list is:\", lst)\n",
    "\n",
    "lst.clear()\n",
    "print(\"The list is cleared\", lst)"
   ]
  },
  {
   "cell_type": "markdown",
   "metadata": {},
   "source": [
    "8) Write a program to Reversing a List"
   ]
  },
  {
   "cell_type": "code",
   "execution_count": 20,
   "metadata": {},
   "outputs": [
    {
     "name": "stdout",
     "output_type": "stream",
     "text": [
      "Original list: ['one', 'two', 'three', 'four']\n",
      "Reversed list: ['four', 'three', 'two', 'one']\n"
     ]
    }
   ],
   "source": [
    "#Code for ques 8\n",
    "\n",
    "#we will use reverse() function\n",
    "lst = [\"one\", \"two\", \"three\", \"four\"]\n",
    "print(\"Original list:\", lst)\n",
    "lst.reverse()\n",
    "\n",
    "print(\"Reversed list:\", lst)"
   ]
  },
  {
   "cell_type": "markdown",
   "metadata": {},
   "source": [
    "9) Write a program to find sum of elements in list"
   ]
  },
  {
   "cell_type": "code",
   "execution_count": 12,
   "metadata": {},
   "outputs": [
    {
     "name": "stdout",
     "output_type": "stream",
     "text": [
      "Sum of all elements in list:  40\n"
     ]
    }
   ],
   "source": [
    "#Code for ques 9\n",
    "\n",
    "sum_list = 0 #assigning value 0, then only number in list will be calculated\n",
    "\n",
    "list1 = [10, 4, 6, 12, 8]\n",
    "\n",
    "for i in range(0, len(list1)):\n",
    "    sum_list = sum_list + list1[i] #this code will add all number inside the list\n",
    " \n",
    "\n",
    "print(\"Sum of all elements in list: \", sum_list)"
   ]
  },
  {
   "cell_type": "markdown",
   "metadata": {},
   "source": [
    "10) Write a program to Multiply all numbers in the list"
   ]
  },
  {
   "cell_type": "code",
   "execution_count": 23,
   "metadata": {},
   "outputs": [
    {
     "name": "stdout",
     "output_type": "stream",
     "text": [
      "Multiplication of all numbers in list:  48\n"
     ]
    }
   ],
   "source": [
    "mul_list = 1 #assigning value 1, then only number in list will be multiplied\n",
    "\n",
    "list2 = [3, 2, 4, 2]\n",
    "\n",
    "for i in range(0, len(list2)):\n",
    "    mul_list = mul_list * list2[i] #this code will perform multiplication of the list\n",
    " \n",
    "\n",
    "print(\"Multiplication of all numbers in list: \", mul_list)"
   ]
  }
 ],
 "metadata": {
  "kernelspec": {
   "display_name": "Python 3",
   "language": "python",
   "name": "python3"
  },
  "language_info": {
   "codemirror_mode": {
    "name": "ipython",
    "version": 3
   },
   "file_extension": ".py",
   "mimetype": "text/x-python",
   "name": "python",
   "nbconvert_exporter": "python",
   "pygments_lexer": "ipython3",
   "version": "3.7.6"
  }
 },
 "nbformat": 4,
 "nbformat_minor": 4
}
