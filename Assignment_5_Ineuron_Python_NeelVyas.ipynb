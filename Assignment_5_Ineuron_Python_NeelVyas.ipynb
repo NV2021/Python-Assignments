{
 "cells": [
  {
   "cell_type": "markdown",
   "metadata": {},
   "source": [
    "## Assignment-5"
   ]
  },
  {
   "cell_type": "markdown",
   "metadata": {},
   "source": [
    "1. Python program to print all negative numbers in a range"
   ]
  },
  {
   "cell_type": "code",
   "execution_count": 6,
   "metadata": {},
   "outputs": [
    {
     "name": "stdout",
     "output_type": "stream",
     "text": [
      "all negetive numbers in range:  -10\n",
      "all negetive numbers in range:  -9\n",
      "all negetive numbers in range:  -8\n",
      "all negetive numbers in range:  -7\n",
      "all negetive numbers in range:  -6\n",
      "all negetive numbers in range:  -5\n",
      "all negetive numbers in range:  -4\n",
      "all negetive numbers in range:  -3\n",
      "all negetive numbers in range:  -2\n",
      "all negetive numbers in range:  -1\n"
     ]
    }
   ],
   "source": [
    "#Code for ques 1\n",
    "start, end = -10, 12 #creates range between 2 given numbers\n",
    "\n",
    "for i in range(start,end+1): # we have to do '+1' bcoz the python's index starts from 0\n",
    "    if i < 0:\n",
    "        print('all negetive numbers in range: ', i)"
   ]
  },
  {
   "cell_type": "markdown",
   "metadata": {},
   "source": [
    "2. Remove multiple elements from a list in Python"
   ]
  },
  {
   "cell_type": "code",
   "execution_count": 16,
   "metadata": {},
   "outputs": [
    {
     "data": {
      "text/plain": [
       "[3, 7, 12, 16]"
      ]
     },
     "execution_count": 16,
     "metadata": {},
     "output_type": "execute_result"
    }
   ],
   "source": [
    "#code for ques 2\n",
    "list2 = [3, 5, 7, 9, 12, 14, 16, 22]\n",
    "del list2[1:8:2] #using slicing function for removing multiple elements from the list\n",
    "list2"
   ]
  },
  {
   "cell_type": "markdown",
   "metadata": {},
   "source": [
    "3. write a Python program to Remove empty List from List"
   ]
  },
  {
   "cell_type": "code",
   "execution_count": 23,
   "metadata": {},
   "outputs": [
    {
     "name": "stdout",
     "output_type": "stream",
     "text": [
      "Before removing empty list:  [5, 6, 8, [], 3, [], [], 9, []]\n",
      "After removing empty list:  [5, 6, 8, 3, 9]\n"
     ]
    }
   ],
   "source": [
    "#code for ques 3\n",
    "list3 = [5, 6,8, [], 3, [], [], 9, []]\n",
    "removed_empty = list(filter(None, list3)) #we are using filter to remove the empty list. function = none, sequence = list3\n",
    "print('Before removing empty list: ', list3)\n",
    "print('After removing empty list: ', removed_empty)"
   ]
  },
  {
   "cell_type": "markdown",
   "metadata": {},
   "source": [
    "4. write a Python program to Cloning or Copying a list"
   ]
  },
  {
   "cell_type": "code",
   "execution_count": 4,
   "metadata": {},
   "outputs": [
    {
     "name": "stdout",
     "output_type": "stream",
     "text": [
      "Original list: [3, 5, 7, 9, 12, 14, 16, 22]\n",
      "Copy of Original list: [3, 5, 7, 9, 12, 14, 16, 22]\n"
     ]
    }
   ],
   "source": [
    "#Code for ques 4\n",
    "list4 = [3, 5, 7, 9, 12, 14, 16, 22]\n",
    "copied_list = list4\n",
    "print ('Original list:',list4)\n",
    "print ('Copy of Original list:',copied_list)"
   ]
  },
  {
   "cell_type": "markdown",
   "metadata": {},
   "source": [
    "5. write a Python program to Count occurrences of an element in a list"
   ]
  },
  {
   "cell_type": "code",
   "execution_count": 15,
   "metadata": {},
   "outputs": [
    {
     "name": "stdout",
     "output_type": "stream",
     "text": [
      "The element 3 has occurred 4 time \n"
     ]
    }
   ],
   "source": [
    "#code for ques 5\n",
    "list5 = [2, 3, 4, 3, 5, 3, 9, 7, 3]\n",
    "x = list5.count(3) #using count function\n",
    "print('The element 3 has occurred {} time '.format(x))"
   ]
  },
  {
   "cell_type": "markdown",
   "metadata": {},
   "source": [
    "6. write a Python program to Remove empty tuples from a list"
   ]
  },
  {
   "cell_type": "code",
   "execution_count": 19,
   "metadata": {},
   "outputs": [
    {
     "name": "stdout",
     "output_type": "stream",
     "text": [
      "Before removing empty tuple:  [(), ('abc', '16', '9'), (), ('def', 'xyz'), ('ghi', 'jkl', '65'), ()]\n",
      "After removing empty tuple:  [('abc', '16', '9'), ('def', 'xyz'), ('ghi', 'jkl', '65')]\n"
     ]
    }
   ],
   "source": [
    "#code for ques 6\n",
    "list_tuples = [(), ('abc','16','9'), (), ('def', 'xyz'), \n",
    "          ('ghi', 'jkl', '65'), ()]\n",
    "remove_tuple = list(filter(None,list_tuples)) #using filter function\n",
    "print('Before removing empty tuple: ', list_tuples)\n",
    "print('After removing empty tuple: ', remove_tuple)"
   ]
  },
  {
   "cell_type": "markdown",
   "metadata": {},
   "source": [
    "7. write a Python program to Program to print duplicates from a list of integers"
   ]
  },
  {
   "cell_type": "code",
   "execution_count": 26,
   "metadata": {},
   "outputs": [
    {
     "name": "stdout",
     "output_type": "stream",
     "text": [
      "Duplicate values: 2\n",
      "Duplicate values: 3\n",
      "Duplicate values: 4\n",
      "Duplicate values: 5\n",
      "Duplicate values: 9\n"
     ]
    }
   ],
   "source": [
    "l=[1,2,3,4,5,2,3,4,7,9,5,9]\n",
    "l1=[] # empty list to store the values of non-duplicate elements from the given list\n",
    "for i in l: #the 'if' condition is used to check if the elements in the given list (l) are present in the empty list (l1).\n",
    "    if i not in l1:\n",
    "        l1.append(i) # If the elements are not present, those values are appended to the list (l1); else, they are printed.\n",
    "    else:\n",
    "        print('Duplicate values:',i)"
   ]
  },
  {
   "cell_type": "markdown",
   "metadata": {},
   "source": [
    "8. write a Python program to find Cumulative sum of a list"
   ]
  },
  {
   "cell_type": "code",
   "execution_count": 28,
   "metadata": {},
   "outputs": [
    {
     "name": "stdout",
     "output_type": "stream",
     "text": [
      "[10, 30, 60, 100, 150]\n"
     ]
    }
   ],
   "source": [
    "#code for ques 8\n",
    "list8 = [10,20,30,40,50]\n",
    "new_list=[]\n",
    "j=0\n",
    "for i in range(0,len(list8)):\n",
    "    j+=list[i] #using '+=' operator\n",
    "    new_list.append(j)\n",
    "     \n",
    "print(new_list)"
   ]
  },
  {
   "cell_type": "markdown",
   "metadata": {},
   "source": [
    "9. write a Python program to Sum of number digits in List"
   ]
  },
  {
   "cell_type": "code",
   "execution_count": 2,
   "metadata": {},
   "outputs": [
    {
     "name": "stdout",
     "output_type": "stream",
     "text": [
      "The original list is : [13, 68, 78, 35]\n",
      "List Integer Summation : [4, 14, 15, 8]\n"
     ]
    }
   ],
   "source": [
    "#code for ques 9\n",
    "#convert each digit to string, and perform the count of the sum of each digit.\n",
    "list9 = [13, 68, 78, 35]\n",
    "\n",
    "res = []\n",
    "for ele in list9:\n",
    "    sum = 0\n",
    "    for digit in str(ele):\n",
    "        sum += int(digit) # using =+\n",
    "    res.append(sum)\n",
    "     \n",
    "# printing result\n",
    "print(\"The original list is : \" + str(list9))\n",
    "print (\"List Integer Summation : \" + str(res))"
   ]
  },
  {
   "cell_type": "markdown",
   "metadata": {},
   "source": [
    "10. write a Python program to Break a list into chunks of size N"
   ]
  },
  {
   "cell_type": "code",
   "execution_count": 2,
   "metadata": {},
   "outputs": [
    {
     "name": "stdout",
     "output_type": "stream",
     "text": [
      "List breaks into 3 chunks [[1, 2, 3], [4, 5, 6], [7, 8, 9], [10, 11, 12]]\n"
     ]
    }
   ],
   "source": [
    "#code for ques 10\n",
    "\n",
    "list10 = [1, 2, 3, 4, 5, 6, 7, 8, 9, 10, 11, 12]\n",
    "n = 3\n",
    "final = [list10[i * n:(i + 1) * n] for i in range((len(list10) + n - 1) // n )] #code breaks the list into n chunks\n",
    "print ('List breaks into',n, 'chunks',final)"
   ]
  },
  {
   "cell_type": "markdown",
   "metadata": {},
   "source": [
    "11. write a Python program to Sort the values of first list using second list"
   ]
  },
  {
   "cell_type": "code",
   "execution_count": 1,
   "metadata": {},
   "outputs": [
    {
     "name": "stdout",
     "output_type": "stream",
     "text": [
      "Unsorted list:  ['h', 'g', 'f', 'e', 'd', 'c', 'b', 'a']\n",
      "Sorted list:  ['a', 'b', 'c', 'd', 'e', 'f', 'g', 'h']\n"
     ]
    }
   ],
   "source": [
    "def sort_list(list1, list2):\n",
    " \n",
    "    zipped_pairs = zip(list2, list1) #The purpose of zip() is to map a similar index of multiple containers so that they can be used just using as a single entity.\n",
    " \n",
    "    z = [x for _, x in sorted(zipped_pairs)]\n",
    "     \n",
    "    return z\n",
    "      \n",
    "x = ['h','g','f','e','d','c','b','a']\n",
    "y = [7, 6, 5, 4, 3, 2, 1, 0]\n",
    "print ('Unsorted list: ', x)\n",
    "print('Sorted list: ',sort_list(x, y))\n"
   ]
  },
  {
   "cell_type": "code",
   "execution_count": null,
   "metadata": {},
   "outputs": [],
   "source": []
  }
 ],
 "metadata": {
  "kernelspec": {
   "display_name": "Python 3",
   "language": "python",
   "name": "python3"
  },
  "language_info": {
   "codemirror_mode": {
    "name": "ipython",
    "version": 3
   },
   "file_extension": ".py",
   "mimetype": "text/x-python",
   "name": "python",
   "nbconvert_exporter": "python",
   "pygments_lexer": "ipython3",
   "version": "3.7.6"
  }
 },
 "nbformat": 4,
 "nbformat_minor": 4
}
